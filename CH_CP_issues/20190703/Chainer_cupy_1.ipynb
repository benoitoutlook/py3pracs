{
 "cells": [
  {
   "cell_type": "code",
   "execution_count": 1,
   "metadata": {},
   "outputs": [
    {
     "data": {
      "text/plain": [
       "array([[ 0.,  2.,  4.,  6.,  8.],\n",
       "       [10., 12., 14., 16., 18.],\n",
       "       [20., 22., 24., 26., 28.],\n",
       "       [30., 32., 34., 36., 38.],\n",
       "       [40., 42., 44., 46., 48.]], dtype=float32)"
      ]
     },
     "execution_count": 1,
     "metadata": {},
     "output_type": "execute_result"
    }
   ],
   "source": [
    "import cupy\n",
    "import numpy as np\n",
    "import pandas as pd\n",
    "\n",
    "add_kernel = cupy.RawKernel(r'''\n",
    "extern \"C\" __global__\n",
    "void my_add(const float* x1, const float* x2, float* y) {\n",
    "     int tid = blockDim.x * blockIdx.x + threadIdx.x;\n",
    "     y[tid] = x1[tid] + x2[tid];\n",
    "}\n",
    "''', 'my_add')\n",
    "x1 = cupy.arange(25, dtype=cupy.float32).reshape(5, 5)\n",
    "x2 = cupy.arange(25, dtype=cupy.float32).reshape(5, 5)\n",
    "y = cupy.zeros((5, 5), dtype=cupy.float32)\n",
    "add_kernel((5,), (5,), (x1, x2, y))  # grid, block and arguments\n",
    "y\n"
   ]
  },
  {
   "cell_type": "code",
   "execution_count": 2,
   "metadata": {},
   "outputs": [],
   "source": [
    "import math\n",
    "import numpy as np\n",
    "import chainer as ch\n",
    "from chainer import backend\n",
    "from chainer import backends\n",
    "from chainer.backends import cuda\n",
    "from chainer import Function, FunctionNode, gradient_check, report, training, utils, Variable\n",
    "from chainer import datasets, initializers, iterators, optimizers, serializers\n",
    "from chainer import Link, Chain, ChainList\n",
    "import chainer.functions as F\n",
    "import chainer.links as L\n",
    "from chainer.training import extensions\n",
    "\n",
    "import matplotlib\n",
    "matplotlib.use('Agg')"
   ]
  },
  {
   "cell_type": "code",
   "execution_count": 3,
   "metadata": {},
   "outputs": [],
   "source": [
    "mushroomsfile = 'mushrooms.csv'\n",
    "data_array = np.genfromtxt(\n",
    "    mushroomsfile, delimiter=',', dtype=str, skip_header=1)\n",
    "for col in range(data_array.shape[1]):\n",
    "    data_array[:, col] = np.unique(data_array[:, col], return_inverse=True)[1]\n",
    "\n",
    "X = data_array[:, 1:].astype(np.float32)\n",
    "Y = data_array[:, 0].astype(np.int32)[:, None]\n",
    "train, test = datasets.split_dataset_random(\n",
    "    datasets.TupleDataset(X, Y), int(data_array.shape[0] * .7))"
   ]
  },
  {
   "cell_type": "code",
   "execution_count": 4,
   "metadata": {},
   "outputs": [],
   "source": [
    "train_iter = ch.iterators.SerialIterator(train, 100)\n",
    "test_iter = ch.iterators.SerialIterator(\n",
    "    test, 100, repeat=False, shuffle=False)"
   ]
  },
  {
   "cell_type": "code",
   "execution_count": 5,
   "metadata": {},
   "outputs": [],
   "source": [
    "# Network definition\n",
    "def MLP(n_units, n_out):\n",
    "    layer = ch.Sequential(L.Linear(n_units), F.relu)\n",
    "    model = layer.repeat(2)\n",
    "    model.append(L.Linear(n_out))\n",
    "\n",
    "    return model"
   ]
  },
  {
   "cell_type": "code",
   "execution_count": 6,
   "metadata": {},
   "outputs": [],
   "source": [
    "model = L.Classifier(\n",
    "    MLP(44, 1), lossfun=F.sigmoid_cross_entropy, accfun=F.binary_accuracy)"
   ]
  },
  {
   "cell_type": "code",
   "execution_count": 7,
   "metadata": {},
   "outputs": [],
   "source": [
    "# Setup an optimizer\n",
    "optimizer = ch.optimizers.SGD().setup(model)"
   ]
  },
  {
   "cell_type": "code",
   "execution_count": 8,
   "metadata": {},
   "outputs": [],
   "source": [
    "# Create the updater, using the optimizer\n",
    "# updater = training.StandardUpdater(train_iter, optimizer, device=-1)\n",
    "updater = training.StandardUpdater(train_iter, optimizer, device=0)"
   ]
  },
  {
   "cell_type": "code",
   "execution_count": 9,
   "metadata": {},
   "outputs": [],
   "source": [
    "# Set up a trainer\n",
    "trainer = training.Trainer(updater, (50, 'epoch'), out='result')"
   ]
  },
  {
   "cell_type": "code",
   "execution_count": 10,
   "metadata": {},
   "outputs": [],
   "source": [
    "# Evaluate the model with the test dataset for each epoch\n",
    "# trainer.extend(extensions.Evaluator(test_iter, model, device=-1))\n",
    "trainer.extend(extensions.Evaluator(test_iter, model, device=0))"
   ]
  },
  {
   "cell_type": "code",
   "execution_count": 11,
   "metadata": {},
   "outputs": [],
   "source": [
    "# Dump a computational graph from 'loss' variable at the first iteration\n",
    "# The \"main\" refers to the target link of the \"main\" optimizer.\n",
    "trainer.extend(extensions.DumpGraph('main/loss'))"
   ]
  },
  {
   "cell_type": "code",
   "execution_count": 12,
   "metadata": {},
   "outputs": [],
   "source": [
    "trainer.extend(extensions.snapshot(), trigger=(20, 'epoch'))"
   ]
  },
  {
   "cell_type": "code",
   "execution_count": 13,
   "metadata": {},
   "outputs": [],
   "source": [
    "# Write a log of evaluation statistics for each epoch\n",
    "trainer.extend(extensions.LogReport())"
   ]
  },
  {
   "cell_type": "code",
   "execution_count": 14,
   "metadata": {},
   "outputs": [],
   "source": [
    "# Save two plot images to the result dir\n",
    "if extensions.PlotReport.available():\n",
    "    trainer.extend(\n",
    "        extensions.PlotReport(['main/loss', 'validation/main/loss'],\n",
    "                              'epoch', file_name='loss.png'))\n",
    "    trainer.extend(\n",
    "        extensions.PlotReport(\n",
    "            ['main/accuracy', 'validation/main/accuracy'],\n",
    "            'epoch', file_name='accuracy.png'))"
   ]
  },
  {
   "cell_type": "code",
   "execution_count": 15,
   "metadata": {},
   "outputs": [],
   "source": [
    "# Print selected entries of the log to stdout\n",
    "trainer.extend(extensions.PrintReport(\n",
    "    ['epoch', 'main/loss', 'validation/main/loss',\n",
    "     'main/accuracy', 'validation/main/accuracy', 'elapsed_time']))"
   ]
  },
  {
   "cell_type": "code",
   "execution_count": 16,
   "metadata": {
    "scrolled": true
   },
   "outputs": [
    {
     "name": "stdout",
     "output_type": "stream",
     "text": [
      "epoch       main/loss   validation/main/loss  main/accuracy  validation/main/accuracy  elapsed_time\n",
      "\u001b[J1           0.605074    0.525185              0.688947       0.735432                  1.05294       \n",
      "\u001b[J2           0.490505    0.441535              0.774737       0.819137                  1.45402       \n",
      "\u001b[J3           0.424657    0.385829              0.827895       0.86339                   1.82796       \n",
      "\u001b[J4           0.380296    0.348908              0.855614       0.882189                  2.2282        \n",
      "\u001b[J5           0.350409    0.318939              0.869649       0.894842                  2.59759       \n",
      "\u001b[J6           0.325195    0.300947              0.879824       0.902842                  2.96831       \n",
      "\u001b[J7           0.3077      0.278649              0.889474       0.910695                  3.33474       \n",
      "\u001b[J8           0.291724    0.264808              0.893929       0.918295                  3.6997        \n",
      "\u001b[J9           0.279132    0.252419              0.901052       0.920295                  4.06993       \n",
      "\u001b[J10          0.266197    0.241619              0.907895       0.924042                  4.47222       \n",
      "\u001b[J11          0.257879    0.233745              0.908421       0.925642                  4.83145       \n",
      "\u001b[J12          0.24973     0.237007              0.913684       0.926442                  5.18923       \n",
      "\u001b[J13          0.238109    0.21605               0.917895       0.931242                  5.5502        \n",
      "\u001b[J14          0.229289    0.209111              0.921053       0.932842                  5.91383       \n",
      "\u001b[J15          0.222088    0.205298              0.920714       0.937242                  6.31091       \n",
      "\u001b[J16          0.213517    0.194486              0.925789       0.939095                  6.67954       \n",
      "\u001b[J17          0.207784    0.18733               0.930175       0.939242                  7.0618        \n",
      "\u001b[J18          0.200776    0.183035              0.929824       0.942442                  7.43873       \n",
      "\u001b[J19          0.192657    0.175489              0.93           0.942695                  7.80578       \n",
      "\u001b[J20          0.187096    0.172795              0.933158       0.944442                  8.17915       \n",
      "\u001b[J21          0.17967     0.165538              0.934561       0.947242                  8.58614       \n",
      "\u001b[J22          0.175473    0.161832              0.935          0.946695                  8.95159       \n",
      "\u001b[J23          0.166496    0.153415              0.939825       0.950695                  9.30335       \n",
      "\u001b[J24          0.162987    0.157932              0.940526       0.946442                  9.65534       \n",
      "\u001b[J25          0.155271    0.143205              0.944386       0.954295                  10.0115       \n",
      "\u001b[J26          0.150611    0.13786               0.946667       0.955495                  10.3959       \n",
      "\u001b[J27          0.142093    0.138476              0.950702       0.956947                  10.7572       \n",
      "\u001b[J28          0.139122    0.129224              0.953158       0.959495                  11.1146       \n",
      "\u001b[J29          0.134265    0.123354              0.954821       0.958295                  11.4672       \n",
      "\u001b[J30          0.128389    0.123902              0.96           0.962947                  11.8299       \n",
      "\u001b[J31          0.126889    0.11466               0.95807        0.964295                  12.1942       \n",
      "\u001b[J32          0.119007    0.120151              0.959825       0.964147                  12.5816       \n",
      "\u001b[J33          0.115182    0.106034              0.963158       0.965347                  12.943        \n",
      "\u001b[J34          0.110077    0.102766              0.963509       0.964547                  13.3055       \n",
      "\u001b[J35          0.106434    0.107593              0.966316       0.966147                  13.6691       \n",
      "\u001b[J36          0.10173     0.0984541             0.968393       0.966147                  14.0319       \n",
      "\u001b[J37          0.0988217   0.0976723             0.968421       0.970547                  14.4283       \n",
      "\u001b[J38          0.0966255   0.0912901             0.968596       0.970547                  14.7951       \n",
      "\u001b[J39          0.0908228   0.0853407             0.97386        0.972147                  15.1635       \n",
      "\u001b[J40          0.088292    0.082156              0.973684       0.974947                  15.5339       \n",
      "\u001b[J41          0.0853042   0.0802952             0.974737       0.974947                  15.9147       \n",
      "\u001b[J42          0.0814863   0.0773083             0.975965       0.974147                  16.2847       \n",
      "\u001b[J43          0.0790247   0.0755744             0.97625        0.978147                  16.6666       \n",
      "\u001b[J44          0.0768976   0.0723408             0.978597       0.979347                  17.0224       \n",
      "\u001b[J45          0.0733626   0.0691899             0.978772       0.977347                  17.3795       \n",
      "\u001b[J46          0.0722942   0.0671951             0.979123       0.981747                  17.7363       \n",
      "\u001b[J47          0.067615    0.0641537             0.982983       0.980947                  18.0905       \n",
      "\u001b[J48          0.0654247   0.0624583             0.982105       0.9836                    18.4716       \n",
      "\u001b[J49          0.063123    0.0668983             0.984386       0.9812                    18.8312       \n",
      "\u001b[J50          0.061456    0.0582429             0.984464       0.984147                  19.1907       \n"
     ]
    }
   ],
   "source": [
    "#  Run the training\n",
    "trainer.run()"
   ]
  },
  {
   "cell_type": "code",
   "execution_count": 31,
   "metadata": {},
   "outputs": [
    {
     "name": "stdout",
     "output_type": "stream",
     "text": [
      "Predicted Edible, Actual Edible\n"
     ]
    }
   ],
   "source": [
    "x, t = test[np.random.randint(len(test))]\n",
    "\n",
    "# xnp = np.array(x[None])\n",
    "xcupy = cupy.array(x[None])\n",
    "predict = model.predictor(xcupy).array\n",
    "\n",
    "# predict = model.predictor(x[None]).array\n",
    "predict = predict[0][0]\n",
    "\n",
    "if predict >= 0:\n",
    "    print('Predicted Poisonous, Actual ' + ['Edible', 'Poisonous'][t[0]])\n",
    "else:\n",
    "    print('Predicted Edible, Actual ' + ['Edible', 'Poisonous'][t[0]])\n",
    "\n",
    "\n",
    "\n",
    "# x, t = test[np.random.randint(len(test))]\n",
    "\n",
    "# predict = model.predictor(x[None]).array\n",
    "# predict = predict[0][0]\n",
    "\n",
    "# if predict >= 0:\n",
    "#     print('Predicted Poisonous, Actual ' + ['Edible', 'Poisonous'][t[0]])\n",
    "# else:\n",
    "#     print('Predicted Edible, Actual ' + ['Edible', 'Poisonous'][t[0]])\n"
   ]
  },
  {
   "cell_type": "code",
   "execution_count": null,
   "metadata": {},
   "outputs": [],
   "source": []
  }
 ],
 "metadata": {
  "kernelspec": {
   "display_name": "Python 3",
   "language": "python",
   "name": "python3"
  },
  "language_info": {
   "codemirror_mode": {
    "name": "ipython",
    "version": 3
   },
   "file_extension": ".py",
   "mimetype": "text/x-python",
   "name": "python",
   "nbconvert_exporter": "python",
   "pygments_lexer": "ipython3",
   "version": "3.7.3"
  }
 },
 "nbformat": 4,
 "nbformat_minor": 2
}
